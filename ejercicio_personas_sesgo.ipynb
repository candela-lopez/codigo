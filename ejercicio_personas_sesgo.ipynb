{
 "cells": [
  {
   "cell_type": "code",
   "execution_count": 1,
   "id": "514a238f",
   "metadata": {},
   "outputs": [],
   "source": [
    "import pandas as pd\n",
    "import numpy as np"
   ]
  },
  {
   "cell_type": "code",
   "execution_count": 10,
   "id": "8391fe18",
   "metadata": {},
   "outputs": [
    {
     "data": {
      "text/html": [
       "<div>\n",
       "<style scoped>\n",
       "    .dataframe tbody tr th:only-of-type {\n",
       "        vertical-align: middle;\n",
       "    }\n",
       "\n",
       "    .dataframe tbody tr th {\n",
       "        vertical-align: top;\n",
       "    }\n",
       "\n",
       "    .dataframe thead th {\n",
       "        text-align: right;\n",
       "    }\n",
       "</style>\n",
       "<table border=\"1\" class=\"dataframe\">\n",
       "  <thead>\n",
       "    <tr style=\"text-align: right;\">\n",
       "      <th></th>\n",
       "      <th>ApplicantCode</th>\n",
       "      <th>Gender</th>\n",
       "      <th>BAMEyn</th>\n",
       "      <th>ShortlistedNY</th>\n",
       "      <th>Interviewed</th>\n",
       "      <th>FemaleONpanel</th>\n",
       "      <th>OfferNY</th>\n",
       "      <th>AcceptNY</th>\n",
       "      <th>JoinYN</th>\n",
       "    </tr>\n",
       "  </thead>\n",
       "  <tbody>\n",
       "    <tr>\n",
       "      <th>0</th>\n",
       "      <td>1</td>\n",
       "      <td>1</td>\n",
       "      <td>2</td>\n",
       "      <td>1</td>\n",
       "      <td>1</td>\n",
       "      <td>1.0</td>\n",
       "      <td>1.0</td>\n",
       "      <td>1.0</td>\n",
       "      <td>1.0</td>\n",
       "    </tr>\n",
       "    <tr>\n",
       "      <th>1</th>\n",
       "      <td>2</td>\n",
       "      <td>1</td>\n",
       "      <td>2</td>\n",
       "      <td>1</td>\n",
       "      <td>1</td>\n",
       "      <td>1.0</td>\n",
       "      <td>1.0</td>\n",
       "      <td>1.0</td>\n",
       "      <td>1.0</td>\n",
       "    </tr>\n",
       "    <tr>\n",
       "      <th>2</th>\n",
       "      <td>3</td>\n",
       "      <td>1</td>\n",
       "      <td>2</td>\n",
       "      <td>1</td>\n",
       "      <td>1</td>\n",
       "      <td>1.0</td>\n",
       "      <td>1.0</td>\n",
       "      <td>1.0</td>\n",
       "      <td>1.0</td>\n",
       "    </tr>\n",
       "    <tr>\n",
       "      <th>3</th>\n",
       "      <td>4</td>\n",
       "      <td>1</td>\n",
       "      <td>2</td>\n",
       "      <td>1</td>\n",
       "      <td>1</td>\n",
       "      <td>2.0</td>\n",
       "      <td>1.0</td>\n",
       "      <td>1.0</td>\n",
       "      <td>1.0</td>\n",
       "    </tr>\n",
       "    <tr>\n",
       "      <th>4</th>\n",
       "      <td>5</td>\n",
       "      <td>1</td>\n",
       "      <td>2</td>\n",
       "      <td>1</td>\n",
       "      <td>1</td>\n",
       "      <td>2.0</td>\n",
       "      <td>0.0</td>\n",
       "      <td>NaN</td>\n",
       "      <td>NaN</td>\n",
       "    </tr>\n",
       "    <tr>\n",
       "      <th>...</th>\n",
       "      <td>...</td>\n",
       "      <td>...</td>\n",
       "      <td>...</td>\n",
       "      <td>...</td>\n",
       "      <td>...</td>\n",
       "      <td>...</td>\n",
       "      <td>...</td>\n",
       "      <td>...</td>\n",
       "      <td>...</td>\n",
       "    </tr>\n",
       "    <tr>\n",
       "      <th>275</th>\n",
       "      <td>276</td>\n",
       "      <td>2</td>\n",
       "      <td>1</td>\n",
       "      <td>0</td>\n",
       "      <td>0</td>\n",
       "      <td>NaN</td>\n",
       "      <td>NaN</td>\n",
       "      <td>NaN</td>\n",
       "      <td>NaN</td>\n",
       "    </tr>\n",
       "    <tr>\n",
       "      <th>276</th>\n",
       "      <td>277</td>\n",
       "      <td>2</td>\n",
       "      <td>1</td>\n",
       "      <td>0</td>\n",
       "      <td>0</td>\n",
       "      <td>NaN</td>\n",
       "      <td>NaN</td>\n",
       "      <td>NaN</td>\n",
       "      <td>NaN</td>\n",
       "    </tr>\n",
       "    <tr>\n",
       "      <th>277</th>\n",
       "      <td>278</td>\n",
       "      <td>2</td>\n",
       "      <td>1</td>\n",
       "      <td>0</td>\n",
       "      <td>0</td>\n",
       "      <td>NaN</td>\n",
       "      <td>NaN</td>\n",
       "      <td>NaN</td>\n",
       "      <td>NaN</td>\n",
       "    </tr>\n",
       "    <tr>\n",
       "      <th>278</th>\n",
       "      <td>279</td>\n",
       "      <td>2</td>\n",
       "      <td>2</td>\n",
       "      <td>0</td>\n",
       "      <td>0</td>\n",
       "      <td>NaN</td>\n",
       "      <td>NaN</td>\n",
       "      <td>NaN</td>\n",
       "      <td>NaN</td>\n",
       "    </tr>\n",
       "    <tr>\n",
       "      <th>279</th>\n",
       "      <td>280</td>\n",
       "      <td>2</td>\n",
       "      <td>2</td>\n",
       "      <td>0</td>\n",
       "      <td>0</td>\n",
       "      <td>NaN</td>\n",
       "      <td>NaN</td>\n",
       "      <td>NaN</td>\n",
       "      <td>NaN</td>\n",
       "    </tr>\n",
       "  </tbody>\n",
       "</table>\n",
       "<p>280 rows × 9 columns</p>\n",
       "</div>"
      ],
      "text/plain": [
       "     ApplicantCode  Gender  BAMEyn  ShortlistedNY  Interviewed  FemaleONpanel  \\\n",
       "0                1       1       2              1            1            1.0   \n",
       "1                2       1       2              1            1            1.0   \n",
       "2                3       1       2              1            1            1.0   \n",
       "3                4       1       2              1            1            2.0   \n",
       "4                5       1       2              1            1            2.0   \n",
       "..             ...     ...     ...            ...          ...            ...   \n",
       "275            276       2       1              0            0            NaN   \n",
       "276            277       2       1              0            0            NaN   \n",
       "277            278       2       1              0            0            NaN   \n",
       "278            279       2       2              0            0            NaN   \n",
       "279            280       2       2              0            0            NaN   \n",
       "\n",
       "     OfferNY  AcceptNY  JoinYN  \n",
       "0        1.0       1.0     1.0  \n",
       "1        1.0       1.0     1.0  \n",
       "2        1.0       1.0     1.0  \n",
       "3        1.0       1.0     1.0  \n",
       "4        0.0       NaN     NaN  \n",
       "..       ...       ...     ...  \n",
       "275      NaN       NaN     NaN  \n",
       "276      NaN       NaN     NaN  \n",
       "277      NaN       NaN     NaN  \n",
       "278      NaN       NaN     NaN  \n",
       "279      NaN       NaN     NaN  \n",
       "\n",
       "[280 rows x 9 columns]"
      ]
     },
     "metadata": {},
     "output_type": "display_data"
    }
   ],
   "source": [
    "df = pd.read_csv('./Base de datos sesgo en el proceso de selección.xls' , sep = ';')\n",
    "display(df)"
   ]
  },
  {
   "cell_type": "code",
   "execution_count": 13,
   "id": "d1d7a406",
   "metadata": {},
   "outputs": [
    {
     "data": {
      "text/plain": [
       "ApplicantCode      int64\n",
       "Gender             int64\n",
       "BAMEyn             int64\n",
       "ShortlistedNY      int64\n",
       "Interviewed        int64\n",
       "FemaleONpanel    float64\n",
       "OfferNY          float64\n",
       "AcceptNY         float64\n",
       "JoinYN           float64\n",
       "dtype: object"
      ]
     },
     "execution_count": 13,
     "metadata": {},
     "output_type": "execute_result"
    }
   ],
   "source": [
    "df.dtypes"
   ]
  },
  {
   "cell_type": "code",
   "execution_count": 14,
   "id": "0c402cf7",
   "metadata": {},
   "outputs": [
    {
     "data": {
      "text/plain": [
       "ApplicantCode      0\n",
       "Gender             0\n",
       "BAMEyn             0\n",
       "ShortlistedNY      0\n",
       "Interviewed        0\n",
       "FemaleONpanel    225\n",
       "OfferNY          225\n",
       "AcceptNY         252\n",
       "JoinYN           252\n",
       "dtype: int64"
      ]
     },
     "execution_count": 14,
     "metadata": {},
     "output_type": "execute_result"
    }
   ],
   "source": [
    "df.isna().sum()"
   ]
  },
  {
   "cell_type": "code",
   "execution_count": 49,
   "id": "3806809c",
   "metadata": {
    "scrolled": true
   },
   "outputs": [],
   "source": [
    "hombres = df[df['Gender'] == 1].count()"
   ]
  },
  {
   "cell_type": "code",
   "execution_count": 32,
   "id": "fcc5d0d1",
   "metadata": {},
   "outputs": [],
   "source": [
    "mujeres = (df[df['Gender'] == 2].count())"
   ]
  },
  {
   "cell_type": "code",
   "execution_count": 33,
   "id": "1e803019",
   "metadata": {},
   "outputs": [],
   "source": [
    "total = df.count()"
   ]
  },
  {
   "cell_type": "code",
   "execution_count": 35,
   "id": "4cf934bb",
   "metadata": {},
   "outputs": [
    {
     "data": {
      "text/plain": [
       "ApplicantCode    0.278571\n",
       "Gender           0.278571\n",
       "BAMEyn           0.278571\n",
       "ShortlistedNY    0.278571\n",
       "Interviewed      0.278571\n",
       "FemaleONpanel    0.490909\n",
       "OfferNY          0.490909\n",
       "AcceptNY         0.642857\n",
       "JoinYN           0.642857\n",
       "dtype: float64"
      ]
     },
     "execution_count": 35,
     "metadata": {},
     "output_type": "execute_result"
    }
   ],
   "source": [
    "proporcion_hombres = hombres/total\n",
    "proporcion_hombres"
   ]
  },
  {
   "cell_type": "code",
   "execution_count": 36,
   "id": "8ffefed3",
   "metadata": {},
   "outputs": [
    {
     "data": {
      "text/plain": [
       "ApplicantCode    0.721429\n",
       "Gender           0.721429\n",
       "BAMEyn           0.721429\n",
       "ShortlistedNY    0.721429\n",
       "Interviewed      0.721429\n",
       "FemaleONpanel    0.509091\n",
       "OfferNY          0.509091\n",
       "AcceptNY         0.357143\n",
       "JoinYN           0.357143\n",
       "dtype: float64"
      ]
     },
     "execution_count": 36,
     "metadata": {},
     "output_type": "execute_result"
    }
   ],
   "source": [
    "proporcion_mujeres = mujeres/total\n",
    "proporcion_mujeres #si k es sexista :)"
   ]
  },
  {
   "cell_type": "code",
   "execution_count": 37,
   "id": "6a5f3233",
   "metadata": {},
   "outputs": [],
   "source": [
    "personas_racializadas = (df[df['BAMEyn'] == 1].count())"
   ]
  },
  {
   "cell_type": "code",
   "execution_count": 39,
   "id": "a082bf65",
   "metadata": {},
   "outputs": [],
   "source": [
    "caucasicos = (df[df['BAMEyn'] == 2].count())"
   ]
  },
  {
   "cell_type": "code",
   "execution_count": 42,
   "id": "8a4ee06b",
   "metadata": {},
   "outputs": [
    {
     "data": {
      "text/plain": [
       "ApplicantCode    0.432143\n",
       "Gender           0.432143\n",
       "BAMEyn           0.432143\n",
       "ShortlistedNY    0.432143\n",
       "Interviewed      0.432143\n",
       "FemaleONpanel    0.236364\n",
       "OfferNY          0.236364\n",
       "AcceptNY         0.285714\n",
       "JoinYN           0.285714\n",
       "dtype: float64"
      ]
     },
     "execution_count": 42,
     "metadata": {},
     "output_type": "execute_result"
    }
   ],
   "source": [
    "proporcion_personas_racializadas = personas_racializadas/total\n",
    "proporcion_personas_racializadas"
   ]
  },
  {
   "cell_type": "code",
   "execution_count": 43,
   "id": "40af0958",
   "metadata": {},
   "outputs": [
    {
     "data": {
      "text/plain": [
       "ApplicantCode    0.002028\n",
       "Gender           0.002028\n",
       "BAMEyn           0.002028\n",
       "ShortlistedNY    0.002028\n",
       "Interviewed      0.002028\n",
       "FemaleONpanel    0.013884\n",
       "OfferNY          0.013884\n",
       "AcceptNY         0.025510\n",
       "JoinYN           0.025510\n",
       "dtype: float64"
      ]
     },
     "execution_count": 43,
     "metadata": {},
     "output_type": "execute_result"
    }
   ],
   "source": [
    "caucasicos = caucasicos/total\n",
    "caucasicos"
   ]
  },
  {
   "cell_type": "code",
   "execution_count": null,
   "id": "2b8600bf",
   "metadata": {},
   "outputs": [],
   "source": []
  }
 ],
 "metadata": {
  "kernelspec": {
   "display_name": "Python 3 (ipykernel)",
   "language": "python",
   "name": "python3"
  },
  "language_info": {
   "codemirror_mode": {
    "name": "ipython",
    "version": 3
   },
   "file_extension": ".py",
   "mimetype": "text/x-python",
   "name": "python",
   "nbconvert_exporter": "python",
   "pygments_lexer": "ipython3",
   "version": "3.9.7"
  }
 },
 "nbformat": 4,
 "nbformat_minor": 5
}
